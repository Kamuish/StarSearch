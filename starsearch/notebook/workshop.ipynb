{
 "cells": [
  {
   "cell_type": "code",
   "execution_count": 1,
   "metadata": {},
   "outputs": [
    {
     "name": "stdout",
     "output_type": "stream",
     "text": [
      "Done\n"
     ]
    }
   ],
   "source": [
    "# importing and ESO login\n",
    "from starsearch.phase3Archive import ESOquery\n",
    "print('Done')"
   ]
  },
  {
   "cell_type": "code",
   "execution_count": 2,
   "metadata": {},
   "outputs": [
    {
     "name": "stdout",
     "output_type": "stream",
     "text": [
      "INFO: Authenticating jdcamacho on www.eso.org... [starsearch.core]\n",
      "INFO: Authentication successful! [starsearch.core]\n",
      "Done\n"
     ]
    }
   ],
   "source": [
    "# login to ESO account\n",
    "query = ESOquery('jdcamacho')\n",
    "print('Done')"
   ]
  },
  {
   "cell_type": "code",
   "execution_count": 3,
   "metadata": {},
   "outputs": [
    {
     "data": {
      "text/plain": [
       "{'CRIRES': 23,\n",
       " 'EFOSC': 149,\n",
       " 'FEROS': 4,\n",
       " 'FORS2': 1014,\n",
       " 'HARPS': 181,\n",
       " 'ISAAC': 34,\n",
       " 'KMOS': 13,\n",
       " 'NAOS+CONICA': 26,\n",
       " 'SOFI': 45,\n",
       " 'TIMMI2': 387,\n",
       " 'UVES': 94,\n",
       " 'VISIR': 23,\n",
       " 'XSHOOTER': 23}"
      ]
     },
     "execution_count": 3,
     "metadata": {},
     "output_type": "execute_result"
    }
   ],
   "source": [
    "# Checks which instruments observed the given star and how many observations it made\n",
    "query.searchInstruments('CoRoT-7')\n"
   ]
  },
  {
   "cell_type": "code",
   "execution_count": 8,
   "metadata": {},
   "outputs": [
    {
     "data": {
      "text/plain": [
       "{'UVES': 0}"
      ]
     },
     "execution_count": 8,
     "metadata": {},
     "output_type": "execute_result"
    }
   ],
   "source": [
    "# Checks THE PUBLIC SPECTRA for a given instrument\n",
    "query.searchInstrumentSpectra('CoRoT-7', instrument='ESPRESSO')"
   ]
  },
  {
   "cell_type": "code",
   "execution_count": 5,
   "metadata": {},
   "outputs": [
    {
     "data": {
      "text/plain": [
       "{'HARPS': 181}"
      ]
     },
     "execution_count": 5,
     "metadata": {},
     "output_type": "execute_result"
    }
   ],
   "source": [
    "query.searchInstrumentSpectra('CoRoT-7', instrument='HARPS')"
   ]
  },
  {
   "cell_type": "code",
   "execution_count": 4,
   "metadata": {},
   "outputs": [
    {
     "name": "stdout",
     "output_type": "stream",
     "text": [
      "*** SUMMARY of CoRoT-7 ***\n",
      "Total number of spectra found: 185\n",
      "\n",
      "FEROS spectra: 4 | SNR Quadradratic Sum: 118.40891013770882\n",
      "Maximum SNR: 60.7\n",
      "Minimum SNR: 56.0\n",
      "\n",
      "HARPS spectra: 181 | SNR Quadradratic Sum: 490.88167617054114\n",
      "Maximum SNR: 51.3\n",
      "Minimum SNR: 11.4\n"
     ]
    }
   ],
   "source": [
    "# Returns a summary of the spectra that matters to us! available of a given star\n",
    "query.summaryStar('CoRoT-7')"
   ]
  },
  {
   "cell_type": "code",
   "execution_count": 4,
   "metadata": {},
   "outputs": [
    {
     "name": "stdout",
     "output_type": "stream",
     "text": [
      "\n",
      "*** Searching for FEROS results ***\n",
      "\n",
      "INFO: Detecting already downloaded datasets... [starsearch.core]\n",
      "INFO: Checking availability of datasets to download... [starsearch.core]\n",
      "INFO: Downloading datasets... [starsearch.core]\n",
      "INFO: Contacting retrieval server... [starsearch.core]\n",
      "INFO: Staging request... [starsearch.core]\n",
      "INFO: Staging form is at https://dataportal.eso.org/rh/requests/jdcamacho/552919 [starsearch.core]\n",
      "INFO: Downloading 4 files... [starsearch.core]\n",
      "INFO: Downloading file 1/4: ADP.2016-09-26T07:15:34.541.fits... [starsearch.core]\n",
      "Downloading URL http://dataportal.eso.org/dataPortal/requests/jdcamacho/552919/SAF/ADP.2016-09-26T07:15:34.541/ADP.2016-09-26T07:15:34.541.fits to /home/camacho/.astropy/cache/astroquery/Eso/ADP.2016-09-26T07:15:34.541.fits ... [Done]\n",
      "INFO: Copying file ADP.2016-09-26T07:15:34.541.fits to /home/camacho/... [starsearch.core]\n",
      "INFO: Downloading file 2/4: ADP.2016-09-26T07:15:34.547.fits... [starsearch.core]\n",
      "Downloading URL http://dataportal.eso.org/dataPortal/requests/jdcamacho/552919/SAF/ADP.2016-09-26T07:15:34.547/ADP.2016-09-26T07:15:34.547.fits to /home/camacho/.astropy/cache/astroquery/Eso/ADP.2016-09-26T07:15:34.547.fits ... [Done]\n",
      "INFO: Copying file ADP.2016-09-26T07:15:34.547.fits to /home/camacho/... [starsearch.core]\n",
      "INFO: Downloading file 3/4: ADP.2016-09-26T07:15:34.551.fits... [starsearch.core]\n",
      "Downloading URL http://dataportal.eso.org/dataPortal/requests/jdcamacho/552919/SAF/ADP.2016-09-26T07:15:34.551/ADP.2016-09-26T07:15:34.551.fits to /home/camacho/.astropy/cache/astroquery/Eso/ADP.2016-09-26T07:15:34.551.fits ... [Done]\n",
      "INFO: Copying file ADP.2016-09-26T07:15:34.551.fits to /home/camacho/... [starsearch.core]\n",
      "INFO: Downloading file 4/4: ADP.2016-09-26T07:15:34.557.fits... [starsearch.core]\n",
      "Downloading URL http://dataportal.eso.org/dataPortal/requests/jdcamacho/552919/SAF/ADP.2016-09-26T07:15:34.557/ADP.2016-09-26T07:15:34.557.fits to /home/camacho/.astropy/cache/astroquery/Eso/ADP.2016-09-26T07:15:34.557.fits ... [Done]\n",
      "INFO: Copying file ADP.2016-09-26T07:15:34.557.fits to /home/camacho/... [starsearch.core]\n",
      "INFO: Done! [starsearch.core]\n",
      "\n",
      "*** Done ***\n",
      "\n"
     ]
    }
   ],
   "source": [
    "# Lets download data\n",
    "query.getFEROSdata('CoRoT-7', downloadPath='/home/camacho/')"
   ]
  },
  {
   "cell_type": "code",
   "execution_count": 5,
   "metadata": {},
   "outputs": [
    {
     "name": "stdout",
     "output_type": "stream",
     "text": [
      "\n",
      "*** Searching for ESPRESSO results ***\n",
      "\n",
      "No ESPRESSO data\n",
      "\n",
      "\n",
      "*** Done ***\n",
      "\n"
     ]
    }
   ],
   "source": [
    "query.getESPRESSOdata('CoRoT-7', downloadPath='/home/camacho/')"
   ]
  },
  {
   "cell_type": "code",
   "execution_count": 6,
   "metadata": {},
   "outputs": [
    {
     "name": "stdout",
     "output_type": "stream",
     "text": [
      "*************\n",
      "* CoRoT-6\n",
      "*************\n",
      "\n",
      "*** Searching for FEROS results ***\n",
      "\n",
      "No FEROS data\n",
      "\n",
      "\n",
      "*** Searching for HARPS results ***\n",
      "\n",
      "INFO: Detecting already downloaded datasets... [starsearch.core]\n",
      "INFO: Checking availability of datasets to download... [starsearch.core]\n",
      "INFO: Downloading datasets... [starsearch.core]\n",
      "INFO: Contacting retrieval server... [starsearch.core]\n",
      "INFO: Staging request... [starsearch.core]\n",
      "INFO: Staging form is at https://dataportal.eso.org/rh/requests/jdcamacho/552921 [starsearch.core]\n",
      "INFO: Downloading 14 files... [starsearch.core]\n",
      "INFO: Downloading file 1/14: ADP.2014-09-24T09:41:08.487.fits... [starsearch.core]\n",
      "Downloading URL http://dataportal.eso.org/dataPortal/requests/jdcamacho/552921/SAF/ADP.2014-09-24T09:41:08.487/ADP.2014-09-24T09:41:08.487.fits to /home/camacho/.astropy/cache/astroquery/Eso/ADP.2014-09-24T09:41:08.487.fits ... [Done]\n",
      "INFO: Copying file ADP.2014-09-24T09:41:08.487.fits to /home/camacho//CoRoT-6... [starsearch.core]\n",
      "INFO: Downloading file 2/14: ADP.2014-09-24T09:41:16.170.fits... [starsearch.core]\n",
      "Downloading URL http://dataportal.eso.org/dataPortal/requests/jdcamacho/552921/SAF/ADP.2014-09-24T09:41:16.170/ADP.2014-09-24T09:41:16.170.fits to /home/camacho/.astropy/cache/astroquery/Eso/ADP.2014-09-24T09:41:16.170.fits ... [Done]\n",
      "INFO: Copying file ADP.2014-09-24T09:41:16.170.fits to /home/camacho//CoRoT-6... [starsearch.core]\n",
      "INFO: Downloading file 3/14: ADP.2014-09-24T09:41:16.710.fits... [starsearch.core]\n",
      "Downloading URL http://dataportal.eso.org/dataPortal/requests/jdcamacho/552921/SAF/ADP.2014-09-24T09:41:16.710/ADP.2014-09-24T09:41:16.710.fits to /home/camacho/.astropy/cache/astroquery/Eso/ADP.2014-09-24T09:41:16.710.fits ... [Done]\n",
      "INFO: Copying file ADP.2014-09-24T09:41:16.710.fits to /home/camacho//CoRoT-6... [starsearch.core]\n",
      "INFO: Downloading file 4/14: ADP.2014-09-24T09:41:42.673.fits... [starsearch.core]\n",
      "Downloading URL http://dataportal.eso.org/dataPortal/requests/jdcamacho/552921/SAF/ADP.2014-09-24T09:41:42.673/ADP.2014-09-24T09:41:42.673.fits to /home/camacho/.astropy/cache/astroquery/Eso/ADP.2014-09-24T09:41:42.673.fits ... [Done]\n",
      "INFO: Copying file ADP.2014-09-24T09:41:42.673.fits to /home/camacho//CoRoT-6... [starsearch.core]\n",
      "INFO: Downloading file 5/14: ADP.2014-09-24T09:41:46.720.fits... [starsearch.core]\n",
      "Downloading URL http://dataportal.eso.org/dataPortal/requests/jdcamacho/552921/SAF/ADP.2014-09-24T09:41:46.720/ADP.2014-09-24T09:41:46.720.fits to /home/camacho/.astropy/cache/astroquery/Eso/ADP.2014-09-24T09:41:46.720.fits ... [Done]\n",
      "INFO: Copying file ADP.2014-09-24T09:41:46.720.fits to /home/camacho//CoRoT-6... [starsearch.core]\n",
      "INFO: Downloading file 6/14: ADP.2014-09-24T09:41:47.080.fits... [starsearch.core]\n",
      "Star not found in ESO archive!\n",
      "\n",
      "*************\n",
      "* CoRoT-7\n",
      "*************\n",
      "\n",
      "*** Searching for FEROS results ***\n",
      "\n",
      "INFO: Detecting already downloaded datasets... [starsearch.core]\n",
      "INFO: Checking availability of datasets to download... [starsearch.core]\n",
      "Star not found in ESO archive!\n",
      "\n",
      "*************\n",
      "* CoRoT-8\n",
      "*************\n",
      "Star not found in ESO archive!\n",
      "\n"
     ]
    }
   ],
   "source": [
    "query.getFILEdata('/home/camacho/Dropbox/present/file_stars.txt', instrument = 'HARPS', header=0, downloadPath='/home/camacho/')"
   ]
  },
  {
   "cell_type": "code",
   "execution_count": 6,
   "metadata": {},
   "outputs": [],
   "source": [
    "####\n",
    "#   Now for more SWEET-cat specific stuff   #\n",
    "                                         ####"
   ]
  },
  {
   "cell_type": "code",
   "execution_count": 7,
   "metadata": {},
   "outputs": [
    {
     "name": "stdout",
     "output_type": "stream",
     "text": [
      "\n",
      "\n"
     ]
    },
    {
     "name": "stderr",
     "output_type": "stream",
     "text": [
      "/home/camacho/Github/StarSearch/starsearch/phase3Archive.py:764: UserWarning: Warning: converting a masked element to nan.\n",
      "  if np.float(starMag) is np.nan:\n"
     ]
    },
    {
     "name": "stdout",
     "output_type": "stream",
     "text": [
      "\n",
      "\n"
     ]
    },
    {
     "name": "stderr",
     "output_type": "stream",
     "text": [
      "WARNING: NoResultsWarning: Query returned no results [starsearch.core]\n"
     ]
    },
    {
     "name": "stdout",
     "output_type": "stream",
     "text": [
      "\n"
     ]
    },
    {
     "name": "stderr",
     "output_type": "stream",
     "text": [
      "WARNING: NoResultsWarning: Query returned no results [starsearch.core]\n"
     ]
    },
    {
     "name": "stdout",
     "output_type": "stream",
     "text": [
      "\n",
      "Done\n"
     ]
    }
   ],
   "source": [
    "query.searchSWEETCatSpectra(filename='/home/camacho/Dropbox/present/rv_stars.rdb', \n",
    "                            table='/home/camacho/Dropbox/present/table.txt', \n",
    "                            mag=12, savePath = '/home/camacho/', download = False)\n",
    "print('Done')"
   ]
  },
  {
   "cell_type": "code",
   "execution_count": null,
   "metadata": {},
   "outputs": [
    {
     "name": "stdout",
     "output_type": "stream",
     "text": [
      "*************\n",
      "* 61Vir\n",
      "*************\n",
      "\n",
      "*** Searching for HARPS results ***\n",
      "\n",
      "INFO: Detecting already downloaded datasets... [starsearch.core]\n",
      "INFO: Checking availability of datasets to download... [starsearch.core]\n"
     ]
    }
   ],
   "source": [
    "query.downloadSWEETCatSpectra('04_starsToDownload_2020-04-24T15:42:24.txt')"
   ]
  },
  {
   "cell_type": "code",
   "execution_count": null,
   "metadata": {},
   "outputs": [],
   "source": []
  }
 ],
 "metadata": {
  "kernelspec": {
   "display_name": "Python 3.7.6 64-bit ('anaconda3': virtualenv)",
   "language": "python",
   "name": "python37664bitanaconda3virtualenv075876bd45874f5bb219d38dfa1ba8da"
  },
  "language_info": {
   "codemirror_mode": {
    "name": "ipython",
    "version": 3
   },
   "file_extension": ".py",
   "mimetype": "text/x-python",
   "name": "python",
   "nbconvert_exporter": "python",
   "pygments_lexer": "ipython3",
   "version": "3.7.6"
  }
 },
 "nbformat": 4,
 "nbformat_minor": 4
}
